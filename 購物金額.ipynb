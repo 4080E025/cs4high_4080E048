{
  "nbformat": 4,
  "nbformat_minor": 0,
  "metadata": {
    "colab": {
      "name": "購物金額.ipynb",
      "provenance": [],
      "collapsed_sections": [],
      "include_colab_link": true
    },
    "kernelspec": {
      "name": "python3",
      "display_name": "Python 3"
    }
  },
  "cells": [
    {
      "cell_type": "markdown",
      "metadata": {
        "id": "view-in-github",
        "colab_type": "text"
      },
      "source": [
        "<a href=\"https://colab.research.google.com/github/mapleyoyo/cs4high_4080E048/blob/master/%E8%B3%BC%E7%89%A9%E9%87%91%E9%A1%8D.ipynb\" target=\"_parent\"><img src=\"https://colab.research.google.com/assets/colab-badge.svg\" alt=\"Open In Colab\"/></a>"
      ]
    },
    {
      "cell_type": "code",
      "metadata": {
        "id": "O7mJmtupUcm4",
        "colab_type": "code",
        "outputId": "89a44bde-f027-4048-a134-ba5cbc5e171c",
        "colab": {
          "base_uri": "https://localhost:8080/",
          "height": 52
        }
      },
      "source": [
        "money=int(input(\"請輸入購物金額:\"))   #輸入購物金額\n",
        "\n",
        "if(money>=10000):     #如果金額大於等於10000時，會出現以下狀況\n",
        "\n",
        "  if(money>=100000):      #如果金額大於等於100000時,打八折優惠\n",
        "    print(money*0.85,end=\"元\\n\") #八折\n",
        "  elif(money>=50000):     #如果金額大於等於50000時,打八五折優惠\n",
        "    print(money*0.85,end=\"元\\n\") #八五折\n",
        "  elif(money>=30000):     #如果金額大於等於30000時,打九折優惠\n",
        "    print(money*0.9,end=\"元\\n\") #九折\n",
        "  else:  #如果是30000以下10000以上金額,打九五折\n",
        "    print(money*0.95,end=\"元\\n\") #九五折  \n",
        "  \n",
        "else:    #如果未到達10000,則不打折\n",
        "  print(money,end=\"元\\n\") #未打折"
      ],
      "execution_count": 0,
      "outputs": [
        {
          "output_type": "stream",
          "text": [
            "請輸入購物金額:10000\n",
            "9500.0元\n"
          ],
          "name": "stdout"
        }
      ]
    }
  ]
}