{
  "nbformat": 4,
  "nbformat_minor": 0,
  "metadata": {
    "colab": {
      "name": "判斷閏年.ipynb",
      "provenance": [],
      "collapsed_sections": [],
      "include_colab_link": true
    },
    "kernelspec": {
      "name": "python3",
      "display_name": "Python 3"
    }
  },
  "cells": [
    {
      "cell_type": "markdown",
      "metadata": {
        "id": "view-in-github",
        "colab_type": "text"
      },
      "source": [
        "<a href=\"https://colab.research.google.com/github/mapleyoyo/cs4high_4080E048/blob/master/%E5%88%A4%E6%96%B7%E9%96%8F%E5%B9%B4.ipynb\" target=\"_parent\"><img src=\"https://colab.research.google.com/assets/colab-badge.svg\" alt=\"Open In Colab\"/></a>"
      ]
    },
    {
      "cell_type": "code",
      "metadata": {
        "id": "AarwLeSENrXr",
        "colab_type": "code",
        "colab": {
          "base_uri": "https://localhost:8080/",
          "height": 34
        },
        "outputId": "51999683-7ed4-4d9b-f099-3f2664b00e74"
      },
      "source": [
        "import time         #引入time模塊\n",
        "\n",
        "date=time.localtime()          #取得目前的日期時間\n",
        "year=date[0]\n",
        "month=date[1]\n",
        "day=date[2]\n",
        "\n",
        "day_month=[31,28,31,30,31,30,31,31,30,31,30,31]    #每個月天數\n",
        "\n",
        "if year%400==0 or (year%4==0 and year%100!=0):     #判斷是否為閏年\n",
        "  day_month[1]=29          #二月閏年29天\n",
        "  \n",
        "if month==1:  #判斷這天是今年的第幾天\n",
        "  print(day)  #列印結果\n",
        "  \n",
        "else: #總和以上運算,並列印出結果\n",
        "  print(sum(day_month[:month-1])+day)\n",
        "  "
      ],
      "execution_count": 4,
      "outputs": [
        {
          "output_type": "stream",
          "text": [
            "268\n"
          ],
          "name": "stdout"
        }
      ]
    }
  ]
}